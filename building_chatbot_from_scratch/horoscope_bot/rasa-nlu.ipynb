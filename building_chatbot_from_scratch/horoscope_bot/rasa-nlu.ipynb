{
 "cells": [
  {
   "cell_type": "markdown",
   "metadata": {},
   "source": [
    "## Importing library function"
   ]
  },
  {
   "cell_type": "code",
   "execution_count": 5,
   "metadata": {},
   "outputs": [],
   "source": [
    "import warnings\n",
    "warnings.filterwarnings(\"ignore\")\n",
    "\n",
    "from rasa_nlu import config\n",
    "from rasa_nlu.model import Trainer\n",
    "from rasa_nlu.model import Interpreter\n",
    "from rasa_nlu.training_data import load_data"
   ]
  },
  {
   "cell_type": "markdown",
   "metadata": {},
   "source": [
    "## Creating custom bot train function"
   ]
  },
  {
   "cell_type": "code",
   "execution_count": 2,
   "metadata": {},
   "outputs": [],
   "source": [
    "def train_horoscopebot(data_json: str, config_file: str, model_dir: str):\n",
    "    training_data = load_data(data_json)\n",
    "    trainer = Trainer(config.load(config_file))\n",
    "    trainer.train(training_data)\n",
    "    model_directory = trainer.persist(model_dir, fixed_model_name=\"horoscopebot\")"
   ]
  },
  {
   "cell_type": "markdown",
   "metadata": {},
   "source": [
    "## Creating predict intent function"
   ]
  },
  {
   "cell_type": "code",
   "execution_count": 3,
   "metadata": {},
   "outputs": [],
   "source": [
    "def predict_intent(text: str):\n",
    "    interpreter = Interpreter.load('./models/nlu/default/horoscopebot')\n",
    "    print(interpreter.parse(text))"
   ]
  },
  {
   "cell_type": "code",
   "execution_count": 6,
   "metadata": {},
   "outputs": [
    {
     "name": "stderr",
     "output_type": "stream",
     "text": [
      "W0921 23:38:57.655270  6996 crf_entity_extractor.py:461] Misaligned entity annotation in sentence '12-12'. Make sure the start and end values of the annotated training examples end at token boundaries (e.g. don't include trailing whitespaces or punctuation).\n",
      "W0921 23:38:57.678272  6996 crf_entity_extractor.py:461] Misaligned entity annotation in sentence '08-01'. Make sure the start and end values of the annotated training examples end at token boundaries (e.g. don't include trailing whitespaces or punctuation).\n",
      "W0921 23:38:57.683272  6996 crf_entity_extractor.py:461] Misaligned entity annotation in sentence '01-01'. Make sure the start and end values of the annotated training examples end at token boundaries (e.g. don't include trailing whitespaces or punctuation).\n",
      "W0921 23:38:57.687272  6996 crf_entity_extractor.py:461] Misaligned entity annotation in sentence '15-08'. Make sure the start and end values of the annotated training examples end at token boundaries (e.g. don't include trailing whitespaces or punctuation).\n",
      "W0921 23:38:57.693273  6996 crf_entity_extractor.py:461] Misaligned entity annotation in sentence '19-01'. Make sure the start and end values of the annotated training examples end at token boundaries (e.g. don't include trailing whitespaces or punctuation).\n",
      "W0921 23:38:57.701273  6996 crf_entity_extractor.py:461] Misaligned entity annotation in sentence '28-02'. Make sure the start and end values of the annotated training examples end at token boundaries (e.g. don't include trailing whitespaces or punctuation).\n",
      "W0921 23:38:57.709274  6996 crf_entity_extractor.py:461] Misaligned entity annotation in sentence 'Leo's today's horoscope'. Make sure the start and end values of the annotated training examples end at token boundaries (e.g. don't include trailing whitespaces or punctuation).\n",
      "W0921 23:38:57.718274  6996 crf_entity_extractor.py:461] Misaligned entity annotation in sentence 'unsubscribe me'. Make sure the start and end values of the annotated training examples end at token boundaries (e.g. don't include trailing whitespaces or punctuation).\n",
      "W0921 23:38:57.722274  6996 crf_entity_extractor.py:461] Misaligned entity annotation in sentence 'unsubscribe'. Make sure the start and end values of the annotated training examples end at token boundaries (e.g. don't include trailing whitespaces or punctuation).\n",
      "Epochs: 100%|█████████| 300/300 [00:12<00:00, 24.81it/s, loss=0.072, acc=1.000]\n"
     ]
    }
   ],
   "source": [
    "train_horoscopebot('./data/data.json', 'config.json', './models/nlu')"
   ]
  },
  {
   "cell_type": "markdown",
   "metadata": {},
   "source": [
    "## Predicting from the model"
   ]
  },
  {
   "cell_type": "code",
   "execution_count": 7,
   "metadata": {},
   "outputs": [
    {
     "name": "stderr",
     "output_type": "stream",
     "text": [
      "W0921 23:41:42.899156  6996 deprecation_wrapper.py:119] From C:\\Users\\Abdur Rakib\\Anaconda3\\lib\\site-packages\\rasa_nlu\\classifiers\\embedding_intent_classifier.py:658: The name tf.train.import_meta_graph is deprecated. Please use tf.compat.v1.train.import_meta_graph instead.\n",
      "\n",
      "W0921 23:41:45.467303  6996 deprecation.py:323] From C:\\Users\\Abdur Rakib\\Anaconda3\\lib\\site-packages\\tensorflow\\python\\training\\saver.py:1276: checkpoint_exists (from tensorflow.python.training.checkpoint_management) is deprecated and will be removed in a future version.\n",
      "Instructions for updating:\n",
      "Use standard file APIs to check for files with this prefix.\n",
      "W0921 23:41:45.770320  6996 deprecation_wrapper.py:119] From C:\\Users\\Abdur Rakib\\Anaconda3\\lib\\site-packages\\rasa_nlu\\classifiers\\embedding_intent_classifier.py:662: The name tf.get_collection is deprecated. Please use tf.compat.v1.get_collection instead.\n",
      "\n"
     ]
    },
    {
     "name": "stdout",
     "output_type": "stream",
     "text": [
      "{'intent': {'name': 'get_horoscope', 'confidence': 0.9562368988990784}, 'entities': [], 'intent_ranking': [{'name': 'get_horoscope', 'confidence': 0.9562368988990784}, {'name': 'job_intent', 'confidence': 0.0}, {'name': 'greeting', 'confidence': 0.0}, {'name': 'subscription', 'confidence': 0.0}], 'text': 'I am looking for my horoscope for today. I am wodering if you can tell me that.'}\n"
     ]
    }
   ],
   "source": [
    "predict_intent(\"I am looking for my horoscope for today. I am wodering if you can tell me that.\")"
   ]
  },
  {
   "cell_type": "code",
   "execution_count": 8,
   "metadata": {},
   "outputs": [
    {
     "name": "stdout",
     "output_type": "stream",
     "text": [
      "{'intent': {'name': 'greeting', 'confidence': 0.9559465646743774}, 'entities': [], 'intent_ranking': [{'name': 'greeting', 'confidence': 0.9559465646743774}, {'name': 'job_intent', 'confidence': 0.05545501038432121}, {'name': 'get_horoscope', 'confidence': 0.006428571417927742}, {'name': 'subscription', 'confidence': 0.0}], 'text': 'Hi, are you a bot.'}\n"
     ]
    }
   ],
   "source": [
    "predict_intent(\"Hi, are you a bot.\")"
   ]
  },
  {
   "cell_type": "markdown",
   "metadata": {},
   "source": [
    "## Dialog Management Using Rasa Core"
   ]
  },
  {
   "cell_type": "code",
   "execution_count": null,
   "metadata": {},
   "outputs": [],
   "source": []
  }
 ],
 "metadata": {
  "kernelspec": {
   "display_name": "Python 3",
   "language": "python",
   "name": "python3"
  },
  "language_info": {
   "codemirror_mode": {
    "name": "ipython",
    "version": 3
   },
   "file_extension": ".py",
   "mimetype": "text/x-python",
   "name": "python",
   "nbconvert_exporter": "python",
   "pygments_lexer": "ipython3",
   "version": "3.7.3"
  }
 },
 "nbformat": 4,
 "nbformat_minor": 4
}
